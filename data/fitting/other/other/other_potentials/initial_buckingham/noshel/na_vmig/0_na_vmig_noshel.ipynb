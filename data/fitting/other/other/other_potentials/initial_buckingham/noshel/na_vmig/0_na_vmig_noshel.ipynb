{
 "cells": [
  {
   "cell_type": "code",
   "execution_count": 1,
   "metadata": {},
   "outputs": [],
   "source": [
    "for i in range(0, 52, 1):\n",
    "    filename = (str(i) + \".inp\")\n",
    "    target = open(filename, 'w+')\n",
    "    pos = 0.5 * i * (1 / 50)\n",
    "    target.write(\"\"\"include /home/ben/Documents/gulp/data_files/na3ocl_structure_noshel.inp\n",
    "\"\"\")\n",
    "    target.write(f\"centre 0.5 {pos:.16f} {0.5 - pos:.16f}\")\n",
    "    target.write(\"\"\"\n",
    "size 13 21\n",
    "vacancy 0.5 0.5 0.0\n",
    "vacancy 0.5 0.0 0.5\n",
    "\"\"\")\n",
    "    target.write(f\"intersitial Na 0.5 {pos:.16f} {0.5 - pos:.16f} fix\")\n",
    "    target.write(\"\"\"\n",
    "include /home/ben/Documents/gulp/data_files/na3ocl_potentials.inp    \n",
    "\"\"\")"
   ]
  },
  {
   "cell_type": "code",
   "execution_count": 2,
   "metadata": {},
   "outputs": [],
   "source": [
    "import subprocess\n",
    "from time import sleep\n",
    "import random\n",
    "\n",
    "def gulp(input_path):\n",
    "    sleep(random.random())\n",
    "    run = True\n",
    "    output_path = input_path[:-3] + 'out'\n",
    "    try:\n",
    "        with open(output_path) as f:\n",
    "            file = f.read()\n",
    "        if 'Job Finished at' in file:\n",
    "            run = False\n",
    "    except:\n",
    "        pass\n",
    "    if run:\n",
    "        with open(input_path) as f:\n",
    "            output_path = input_path[:-3] + 'out'\n",
    "            with open(output_path, 'w') as o:\n",
    "                try:\n",
    "                    a = subprocess.run(['gulp'], stdin = f, stdout = o, timeout = 900)\n",
    "                except:\n",
    "                    pass"
   ]
  },
  {
   "cell_type": "code",
   "execution_count": 3,
   "metadata": {},
   "outputs": [
    {
     "name": "stderr",
     "output_type": "stream",
     "text": [
      "100%|██████████| 52/52 [37:02<00:00, 42.73s/it]  \n"
     ]
    }
   ],
   "source": [
    "import glob\n",
    "import subprocess\n",
    "from tqdm import tqdm\n",
    "import multiprocessing\n",
    "\n",
    "# n = 5\n",
    "# species = 'Sr'\n",
    "\n",
    "all_cases = sorted(glob.glob('*.inp'), key = lambda x: x.split('/')[-1].split('.')[0])\n",
    "\n",
    "complete = []\n",
    "\n",
    "for case in all_cases:\n",
    "    try:\n",
    "        with open(case[:-3] + 'out', 'r') as f:\n",
    "            g = f.read()\n",
    "        if 'Final energy' in g:\n",
    "            complete.append(case)\n",
    "    except:\n",
    "        pass\n",
    "\n",
    "cases = [case for case in all_cases if case not in complete]\n",
    "\n",
    "N = len(cases)\n",
    "\n",
    "def update():\n",
    "    pbar.update(1)\n",
    "\n",
    "if __name__ == '__main__':\n",
    "    with multiprocessing.Pool() as pool:\n",
    "        for result in tqdm(pool.imap_unordered(gulp, cases), total=len(cases)):\n",
    "            pass\n",
    "    pool.close()\n",
    "    pool.join()"
   ]
  },
  {
   "cell_type": "code",
   "execution_count": 1,
   "metadata": {},
   "outputs": [
    {
     "data": {
      "image/png": "[encoded data removed]",
      "text/plain": [
       "<Figure size 432x288 with 1 Axes>"
      ]
     },
     "metadata": {
      "needs_background": "light"
     },
     "output_type": "display_data"
    }
   ],
   "source": [
    "from matplotlib import pyplot as plt\n",
    "import re\n",
    "import glob\n",
    "import numpy as np\n",
    "\n",
    "position, energy = [], []\n",
    "\n",
    "data = glob.glob('*.out')\n",
    "\n",
    "def getEnergy(path):\n",
    "    with open(path) as file:\n",
    "        content = file.readlines()\n",
    "    for line in content:\n",
    "        if \"Final defect energy\" in line:\n",
    "            return float(re.findall(\"[-+]?[.]?[\\d]+(?:,\\d\\d\\d)*[\\.]?\\d*(?:[eE][-+]?\\d+)?\", line)[0])\n",
    "\n",
    "for f in data:\n",
    "    position.append(float(f.strip('.out')))\n",
    "    energy.append(getEnergy(f))\n",
    "\n",
    "energies = np.array(energy)\n",
    "positions = np.array(position)\n",
    "idx   = np.argsort(positions)\n",
    "\n",
    "energies = np.array(energies)[idx]\n",
    "positions = np.array(positions)[idx]\n",
    "\n",
    "plt.plot(positions, energies)\n",
    "plt.ylim()\n",
    "plt.xlabel('Migration coordinate')\n",
    "plt.ylabel('Energy, eV')\n",
    "plt.title('Na vacancy migration with interstitial fixed in all dimensions (w/o shells)')\n",
    "plt.savefig('/home/ben/Documents/gulp_calcs/0_summary/plot_na3ocl_fix_noshel.jpg', bbox_inches='tight', dpi=500)"
   ]
  },
  {
   "cell_type": "code",
   "execution_count": null,
   "metadata": {},
   "outputs": [],
   "source": []
  }
 ],
 "metadata": {
  "kernelspec": {
   "display_name": "Python 3",
   "language": "python",
   "name": "python3"
  },
  "language_info": {
   "codemirror_mode": {
    "name": "ipython",
    "version": 3
   },
   "file_extension": ".py",
   "mimetype": "text/x-python",
   "name": "python",
   "nbconvert_exporter": "python",
   "pygments_lexer": "ipython3",
   "version": "3.8.5"
  }
 },
 "nbformat": 4,
 "nbformat_minor": 4
}
