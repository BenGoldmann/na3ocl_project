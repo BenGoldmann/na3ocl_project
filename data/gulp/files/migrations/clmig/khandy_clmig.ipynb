{
 "cells": [
  {
   "cell_type": "code",
   "execution_count": 9,
   "metadata": {},
   "outputs": [],
   "source": [
    "for i in range(0, 52, 1):\n",
    "    filename = (str(i) + \".inp\")\n",
    "    target = open(filename, 'w+')\n",
    "    pos = 4.504 * i * (1 / 50)\n",
    "    target.write(\"\"\"include /home/ben/Documents/gulp_calcs/0_datafiles/na3ocl_structure.inp\n",
    "\"\"\")\n",
    "    target.write(f\"centre cart 2.252 0 0\")\n",
    "    target.write(\"\"\"\n",
    "size 12 16\n",
    "vacancy cart 4.504 0 0\n",
    "vacancy cart 0 0 0\n",
    "\"\"\")\n",
    "    target.write(f\"intersitial Cl cart {pos:.14f} 0 0 fix\")\n",
    "    target.write(\"\"\"\n",
    "include /home/ben/Documents/gulp_calcs/0_datafiles/na3ocl_khandy_potentials.inp    \n",
    "\"\"\")"
   ]
  },
  {
   "cell_type": "code",
   "execution_count": 10,
   "metadata": {},
   "outputs": [
    {
     "name": "stderr",
     "output_type": "stream",
     "text": [
      "100%|██████████| 52/52 [01:10<00:00,  1.35s/it]\n"
     ]
    }
   ],
   "source": [
    "import glob\n",
    "import subprocess\n",
    "from tqdm import tqdm\n",
    "import multiprocessing\n",
    "from time import sleep\n",
    "import random\n",
    "\n",
    "def gulp(input_path):\n",
    "    sleep(random.random())\n",
    "    run = True\n",
    "    output_path = input_path[:-3] + 'out'\n",
    "    try:\n",
    "        with open(output_path) as f:\n",
    "            file = f.read()\n",
    "        if 'Job Finished at' in file:\n",
    "            run = False\n",
    "    except:\n",
    "        pass\n",
    "    if run:\n",
    "        with open(input_path) as f:\n",
    "            output_path = input_path[:-3] + 'out'\n",
    "            with open(output_path, 'w') as o:\n",
    "                try:\n",
    "                    a = subprocess.run(['gulp'], stdin = f, stdout = o, timeout=None)\n",
    "                except:\n",
    "                    pass\n",
    "\n",
    "all_cases = sorted(glob.glob('*.inp'), key = lambda x: x.split('/')[-1].split('.')[0])\n",
    "\n",
    "complete = []\n",
    "\n",
    "for case in all_cases:\n",
    "    try:\n",
    "        with open(case[:-3] + 'out', 'r') as f:\n",
    "            g = f.read()\n",
    "        if 'Final energy' in g:\n",
    "            complete.append(case)\n",
    "    except:\n",
    "        pass\n",
    "\n",
    "cases = [case for case in all_cases if case not in complete]\n",
    "\n",
    "N = len(cases)\n",
    "\n",
    "def update():\n",
    "    pbar.update(1)\n",
    "\n",
    "if __name__ == '__main__':\n",
    "    with multiprocessing.Pool() as pool:\n",
    "        for result in tqdm(pool.imap_unordered(gulp, cases), total=len(cases)):\n",
    "            pass\n",
    "    pool.close()\n",
    "    pool.join()"
   ]
  },
  {
   "cell_type": "code",
   "execution_count": 1,
   "metadata": {},
   "outputs": [
    {
     "name": "stdout",
     "output_type": "stream",
     "text": [
      "{'37.out': 5.65822306, '51.out': None, '13.out': 5.74674005, '35.out': 5.82473807, '1.out': 5.19306232, '38.out': 5.58181951, '17.out': 6.09585143, '32.out': 6.08841136, '16.out': 6.00860557, '7.out': 5.3438679, '41.out': 5.39015871, '28.out': 6.38205013, '2.out': 5.19958022, '50.out': 5.20613879, '4.out': 5.23540608, '39.out': 5.51121903, '46.out': 5.21288909, '12.out': 5.66490159, '8.out': 5.39443137, '20.out': 6.32741983, '47.out': 5.19939379, '5.out': 5.26429957, '15.out': 5.92006777, '30.out': 6.25111427, '11.out': 5.58797976, '45.out': 5.23383786, '3.out': 5.21378236, '18.out': 6.17960836, '43.out': 5.29749868, '26.out': 6.46326018, '29.out': 6.32172383, '0.out': 5.19448686, '36.out': 5.73963282, '6.out': 5.30041732, '25.out': 6.48069396, '34.out': 5.9124717, '22.out': 6.43330385, '31.out': 6.17253822, '42.out': 5.34027128, '9.out': 5.45215775, '14.out': 5.83215874, '48.out': 5.19359872, '23.out': 6.46543271, '40.out': 5.44722171, '21.out': 6.38674724, '49.out': 5.19576738, '33.out': 6.0009961, '10.out': 5.51679013, '19.out': 6.25760491, '24.out': 6.48142926, '27.out': 6.42979277, '44.out': 5.26205644}\n",
      "[5.19448686, 5.19306232, 5.19958022, 5.21378236, 5.23540608, 5.26429957, 5.30041732, 5.3438679, 5.39443137, 5.45215775, 5.51679013, 5.58797976, 5.66490159, 5.74674005, 5.83215874, 5.92006777, 6.00860557, 6.09585143, 6.17960836, 6.25760491, 6.32741983, 6.38674724, 6.43330385, 6.46543271, 6.48142926, 6.48069396, 6.46326018, 6.42979277, 6.38205013, 6.32172383, 6.25111427, 6.17253822, 6.08841136, 6.0009961, 5.9124717, 5.82473807, 5.73963282, 5.65822306, 5.58181951, 5.51121903, 5.44722171, 5.39015871, 5.34027128, 5.29749868, 5.26205644, 5.23383786, 5.21288909, 5.19939379, 5.19359872, 5.19576738, 5.20613879]\n"
     ]
    }
   ],
   "source": [
    "import re\n",
    "import glob\n",
    "import numpy as np\n",
    "\n",
    "def getEnergy(path):\n",
    "    with open(path) as file:\n",
    "        content = file.readlines()\n",
    "    for line in content:\n",
    "        if \"Final defect energy\" in line:\n",
    "            return float(re.findall(\"[-+]?[.]?[\\d]+(?:,\\d\\d\\d)*[\\.]?\\d*(?:[eE][-+]?\\d+)?\", line)[0])\n",
    "        else:\n",
    "            continue\n",
    "    \n",
    "def energyList(data):\n",
    "    files = glob.glob(data)\n",
    "    energies = dict()\n",
    "    for f in files:\n",
    "        energies[f] = getEnergy(f)\n",
    "    return energies\n",
    "\n",
    "energy = energyList('*.out')\n",
    "energies = []\n",
    "\n",
    "for i in range(0, 51):\n",
    "        try:\n",
    "            energies.append(energy[f'{i}.out'])\n",
    "        except:\n",
    "            pass\n",
    "\n",
    "print(energies)"
   ]
  },
  {
   "cell_type": "code",
   "execution_count": 12,
   "metadata": {},
   "outputs": [
    {
     "data": {
      "image/png": "[encoded data removed]",
      "text/plain": [
       "<Figure size 432x288 with 1 Axes>"
      ]
     },
     "metadata": {
      "needs_background": "light"
     },
     "output_type": "display_data"
    }
   ],
   "source": [
    "import matplotlib.pyplot as plt\n",
    "\n",
    "x = list(range(0,51))\n",
    "y = []\n",
    "\n",
    "\n",
    "for i in range(0, 51):\n",
    "    try:\n",
    "        y.append(energy[f'{i}.out'])\n",
    "    except:\n",
    "        pass\n",
    "    \n",
    "plt.plot(x, y)\n",
    "plt.xlabel('Migration coordinate')\n",
    "plt.ylabel('Energy (eV)')\n",
    "plt.title('Na vacancy migration using Khandy potentials \\n with defect centre fixed at migration centre (w/ shells)')\n",
    "plt.savefig('/home/ben/Documents/gulp_calcs/0_summary/khandy_cl_migration_fixcent.jpg', bbox_inches='tight', dpi=500)"
   ]
  },
  {
   "cell_type": "code",
   "execution_count": null,
   "metadata": {},
   "outputs": [],
   "source": []
  }
 ],
 "metadata": {
  "kernelspec": {
   "display_name": "Python 3",
   "language": "python",
   "name": "python3"
  },
  "language_info": {
   "codemirror_mode": {
    "name": "ipython",
    "version": 3
   },
   "file_extension": ".py",
   "mimetype": "text/x-python",
   "name": "python",
   "nbconvert_exporter": "python",
   "pygments_lexer": "ipython3",
   "version": "3.8.5"
  }
 },
 "nbformat": 4,
 "nbformat_minor": 4
}
