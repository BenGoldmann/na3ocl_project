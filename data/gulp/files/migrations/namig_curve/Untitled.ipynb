{
 "cells": [
  {
   "cell_type": "code",
   "execution_count": 8,
   "metadata": {},
   "outputs": [],
   "source": [
    "for i in range(0, 27, 1):\n",
    "    filename = (str(i) + \".inp\")\n",
    "    target = open(filename, 'w+')\n",
    "    pos_a = 0.195 * i * (1 / 25)\n",
    "    pos_b = 0.305 * i * (1 / 25)\n",
    "    target.write(\"\"\"include /home/ben/Documents/na3ocl_project/gulp_calcs/data/na3ocl_structure.inp\n",
    "\"\"\")\n",
    "    target.write(f\"centre 0.5 0.25 0.25\")\n",
    "    target.write(\"\"\"\n",
    "size 12 16\n",
    "vacancy 0.5 0.5 0.0\n",
    "vacancy 0.5 0.0 0.5\n",
    "\"\"\")\n",
    "    target.write(f\"intersitial Na 0.5 {pos_a:.16f} {0.5 - pos_b:.16f} fix\")\n",
    "    target.write(\"\"\"\n",
    "include /home/ben/Documents/na3ocl_project/gulp_calcs/data/na3ocl_khandy_potentials.inp    \n",
    "\"\"\")"
   ]
  },
  {
   "cell_type": "code",
   "execution_count": 9,
   "metadata": {},
   "outputs": [],
   "source": [
    "for i in range(25, 52, 1):\n",
    "    filename = (str(i) + \".inp\")\n",
    "    target = open(filename, 'w+')\n",
    "    pos_a = 0.195 * (i - 25) * (1 / 25)\n",
    "    pos_b = 0.305 * (i - 25) * (1 / 25)\n",
    "    target.write(\"\"\"include /home/ben/Documents/na3ocl_project/gulp_calcs/data/na3ocl_structure.inp\n",
    "\"\"\")\n",
    "    target.write(f\"centre 0.5 0.25 0.25\")\n",
    "    target.write(\"\"\"\n",
    "size 12 16\n",
    "vacancy 0.5 0.5 0.0\n",
    "vacancy 0.5 0.0 0.5\n",
    "\"\"\")\n",
    "    target.write(f\"intersitial Na 0.5 {0.195 + pos_b:.16f} {0.195 - pos_a:.16f} fix\")\n",
    "    target.write(\"\"\"\n",
    "include /home/ben/Documents/na3ocl_project/gulp_calcs/data/na3ocl_khandy_potentials.inp    \n",
    "\"\"\")"
   ]
  },
  {
   "cell_type": "code",
   "execution_count": 10,
   "metadata": {},
   "outputs": [
    {
     "name": "stderr",
     "output_type": "stream",
     "text": [
      "100%|██████████| 52/52 [03:31<00:00,  4.07s/it]\n"
     ]
    }
   ],
   "source": [
    "import glob\n",
    "import subprocess\n",
    "from tqdm import tqdm\n",
    "import multiprocessing\n",
    "from time import sleep\n",
    "import random\n",
    "\n",
    "def gulp(input_path):\n",
    "    sleep(random.random())\n",
    "    run = True\n",
    "    output_path = input_path[:-3] + 'out'\n",
    "    try:\n",
    "        with open(output_path) as f:\n",
    "            file = f.read()\n",
    "        if 'Job Finished at' in file:\n",
    "            run = False\n",
    "    except:\n",
    "        pass\n",
    "    if run:\n",
    "        with open(input_path) as f:\n",
    "            output_path = input_path[:-3] + 'out'\n",
    "            with open(output_path, 'w') as o:\n",
    "                try:\n",
    "                    a = subprocess.run(['gulp'], stdin = f, stdout = o, timeout=None)\n",
    "                except:\n",
    "                    pass\n",
    "\n",
    "all_cases = sorted(glob.glob('*.inp'), key = lambda x: x.split('/')[-1].split('.')[0])\n",
    "\n",
    "complete = []\n",
    "\n",
    "for case in all_cases:\n",
    "    try:\n",
    "        with open(case[:-3] + 'out', 'r') as f:\n",
    "            g = f.read()\n",
    "        if 'Final energy' in g:\n",
    "            complete.append(case)\n",
    "    except:\n",
    "        pass\n",
    "\n",
    "cases = [case for case in all_cases if case not in complete]\n",
    "\n",
    "N = len(cases)\n",
    "\n",
    "def update():\n",
    "    pbar.update(1)\n",
    "\n",
    "if __name__ == '__main__':\n",
    "    with multiprocessing.Pool() as pool:\n",
    "        for result in tqdm(pool.imap_unordered(gulp, cases), total=len(cases)):\n",
    "            pass\n",
    "    pool.close()\n",
    "    pool.join()"
   ]
  },
  {
   "cell_type": "code",
   "execution_count": 11,
   "metadata": {},
   "outputs": [
    {
     "name": "stdout",
     "output_type": "stream",
     "text": [
      "[0.0, -0.011350769999999955, -0.018522579999999955, -0.021564919999999432, -0.020666030000000113, -0.01600838999999965, -0.007806869999999577, 0.003672780000000486, 0.01814081000000023, 0.03524163999999974, 0.05456014000000042, 0.0756794799999998, 0.09806668000000052, 0.12119558000000019, 0.14449161000000021, 0.16739198000000055, 0.18936768000000015, 0.20995044000000007, 0.22873345, 0.24542119000000007, 0.25978162000000005, 0.2716421699999998, 0.2808888000000005, 0.28744853999999975, 0.2912565900000006, 0.2923156200000001, 0.2912565900000006, 0.28744853999999975, 0.2808888000000005, 0.2716421699999998, 0.25978162000000005, 0.24542119000000007, 0.22873345, 0.20995044000000007, 0.18936768000000015, 0.16739198000000055, 0.14449161000000021, 0.12119558000000019, 0.09806668000000052, 0.0756794799999998, 0.05456014000000042, 0.03524163999999974, 0.01814081000000023, 0.003672780000000486, -0.007806869999999577, -0.01600838999999965, -0.020666030000000113, -0.021564919999999432, -0.018522579999999955, -0.011350769999999955, 0.0]\n"
     ]
    }
   ],
   "source": [
    "import re\n",
    "import glob\n",
    "import numpy as np\n",
    "\n",
    "def getEnergy(path):\n",
    "    with open(path) as file:\n",
    "        content = file.readlines()\n",
    "    for line in content:\n",
    "        if \"Final defect energy\" in line:\n",
    "            return float(re.findall(\"[-+]?[.]?[\\d]+(?:,\\d\\d\\d)*[\\.]?\\d*(?:[eE][-+]?\\d+)?\", line)[0])\n",
    "        else:\n",
    "            continue\n",
    "    \n",
    "def energyList(data):\n",
    "    files = glob.glob(data)\n",
    "    energies = dict()\n",
    "    for f in files:\n",
    "        energies[f] = getEnergy(f)\n",
    "    return energies\n",
    "\n",
    "energy = energyList('*.out')\n",
    "energies = []\n",
    "\n",
    "for i in range(0, 51):\n",
    "        try:\n",
    "            energies.append(energy[f'{i}.out'] - energy['0.out'])\n",
    "        except:\n",
    "            pass\n",
    "    \n",
    "print(energies)"
   ]
  },
  {
   "cell_type": "code",
   "execution_count": 12,
   "metadata": {},
   "outputs": [
    {
     "data": {
      "image/png": "[encoded data removed]",
      "text/plain": [
       "<Figure size 432x288 with 1 Axes>"
      ]
     },
     "metadata": {
      "needs_background": "light"
     },
     "output_type": "display_data"
    }
   ],
   "source": [
    "import matplotlib.pyplot as plt\n",
    "\n",
    "x = list(range(0,51))\n",
    "y = []\n",
    "\n",
    "\n",
    "for i in range(0, 51):\n",
    "    try:\n",
    "        y.append(energy[f'{i}.out'] - energy['0.out'])\n",
    "    except:\n",
    "        pass\n",
    "    \n",
    "plt.plot(x, y)\n",
    "plt.xlabel('Migration coordinate', size =14)\n",
    "plt.ylabel('$\\mathrm{\\Delta}$E (eV)', size=14)\n",
    "\n",
    "def make_square_axes(ax):\n",
    "    \"\"\"Make an axes square in screen units.\n",
    "\n",
    "    Should be called after plotting.\n",
    "    \"\"\"\n",
    "    ax.set_aspect(1 / ax.get_data_ratio())\n",
    "\n",
    "make_square_axes(plt.gca())"
   ]
  },
  {
   "cell_type": "code",
   "execution_count": 4,
   "metadata": {},
   "outputs": [
    {
     "data": {
      "image/png": "[encoded data removed]",
      "text/plain": [
       "<Figure size 432x288 with 1 Axes>"
      ]
     },
     "metadata": {
      "needs_background": "light"
     },
     "output_type": "display_data"
    }
   ],
   "source": [
    "\n",
    "import matplotlib.pyplot as plt\n",
    "from matplotlib import cm\n",
    "col = cm.get_cmap('Paired')\n",
    "\n",
    "straight = [0.0, -0.011902799999999658, -0.017555449999999695, -0.017125829999999453, -0.010961389999999405, 0.0005598200000003217, 0.01699621000000029, 0.03781435000000055, 0.062466689999999936, 0.09025305000000028, 0.12049354000000001, 0.15238359000000035, 0.1851570699999998, 0.21802762999999992, 0.2502727500000006, 0.2812882600000002, 0.3104907600000004, 0.33752782000000003, 0.36201855000000016, 0.38373861, 0.40245830000000016, 0.4180135500000004, 0.43026105000000037, 0.43909420000000043, 0.44443741999999986, 0.44622351000000027, 0.44443741999999986, 0.43909420000000043, 0.43026105000000037, 0.4180135500000004, 0.40245830000000016, 0.38373861, 0.36201855000000016, 0.33752782000000003, 0.3104907600000004, 0.2812882600000002, 0.2502727500000006, 0.21802762999999992, 0.1851570699999998, 0.15238359000000035, 0.12049354000000001, 0.09025305000000028, 0.062466689999999936, 0.03781435000000055, 0.01699621000000029, 0.0005598200000003217, -0.010961389999999405, -0.017125829999999453, -0.017555449999999695, -0.011902799999999658, 0.0]\n",
    "curve = [0.0, -0.011350769999999955, -0.018522579999999955, -0.021564919999999432, -0.020666030000000113, -0.01600838999999965, -0.007806869999999577, 0.003672780000000486, 0.01814081000000023, 0.03524163999999974, 0.05456014000000042, 0.0756794799999998, 0.09806668000000052, 0.12119558000000019, 0.14449161000000021, 0.16739198000000055, 0.18936768000000015, 0.20995044000000007, 0.22873345, 0.24542119000000007, 0.25978162000000005, 0.2716421699999998, 0.2808888000000005, 0.28744853999999975, 0.2912565900000006, 0.2923156200000001, 0.2912565900000006, 0.28744853999999975, 0.2808888000000005, 0.2716421699999998, 0.25978162000000005, 0.24542119000000007, 0.22873345, 0.20995044000000007, 0.18936768000000015, 0.16739198000000055, 0.14449161000000021, 0.12119558000000019, 0.09806668000000052, 0.0756794799999998, 0.05456014000000042, 0.03524163999999974, 0.01814081000000023, 0.003672780000000486, -0.007806869999999577, -0.01600838999999965, -0.020666030000000113, -0.021564919999999432, -0.018522579999999955, -0.011350769999999955, 0.0]\n",
    "\n",
    "x = list(range(0,51))\n",
    "\n",
    "plt.plot(x, straight, color=col(1))\n",
    "plt.plot(x, curve, color=col(4))\n",
    "plt.xlabel('Migration coordinate', size =14)\n",
    "plt.ylabel('$\\mathrm{\\Delta}$E (eV)', size=14)\n",
    "plt.legend(('linear', 'curved'))\n",
    "\n",
    "def make_square_axes(ax):\n",
    "    \"\"\"Make an axes square in screen units.\n",
    "\n",
    "    Should be called after plotting.\n",
    "    \"\"\"\n",
    "    ax.set_aspect(1 / ax.get_data_ratio())\n",
    "\n",
    "make_square_axes(plt.gca())\n",
    "\n",
    "plt.savefig('/home/ben/Documents/na3ocl_project/migration.jpg', bbox_inches='tight', dpi=500)"
   ]
  },
  {
   "cell_type": "code",
   "execution_count": null,
   "metadata": {},
   "outputs": [],
   "source": []
  }
 ],
 "metadata": {
  "kernelspec": {
   "display_name": "Python 3",
   "language": "python",
   "name": "python3"
  },
  "language_info": {
   "codemirror_mode": {
    "name": "ipython",
    "version": 3
   },
   "file_extension": ".py",
   "mimetype": "text/x-python",
   "name": "python",
   "nbconvert_exporter": "python",
   "pygments_lexer": "ipython3",
   "version": "3.8.5"
  }
 },
 "nbformat": 4,
 "nbformat_minor": 4
}
