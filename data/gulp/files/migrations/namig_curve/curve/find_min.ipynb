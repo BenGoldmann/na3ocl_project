{
 "cells": [
  {
   "cell_type": "code",
   "execution_count": 5,
   "metadata": {},
   "outputs": [],
   "source": [
    "for i in range(0, 52, 1):\n",
    "    filename = (str(i) + \".inp\")\n",
    "    target = open(filename, 'w+')\n",
    "    pos = 0.25 - i * (0.25 / 50)\n",
    "    target.write(\"\"\"include /home/ben/Documents/na3ocl_project/gulp_calcs/data/na3ocl_structure.inp\n",
    "\"\"\")\n",
    "    target.write(f\"centre 0.5 0.25 0.25\")\n",
    "    target.write(\"\"\"\n",
    "size 12 16\n",
    "vacancy 0.5 0.5 0.0\n",
    "vacancy 0.5 0.0 0.5\n",
    "\"\"\")\n",
    "    target.write(f\"intersitial Na 0.5 {pos:.16f} {pos:.16f} fix\")\n",
    "    target.write(\"\"\"\n",
    "include /home/ben/Documents/na3ocl_project/gulp_calcs/data/na3ocl_khandy_potentials.inp    \n",
    "\"\"\")"
   ]
  },
  {
   "cell_type": "code",
   "execution_count": 6,
   "metadata": {},
   "outputs": [
    {
     "name": "stderr",
     "output_type": "stream",
     "text": [
      "100%|██████████| 52/52 [02:20<00:00,  2.70s/it]\n"
     ]
    }
   ],
   "source": [
    "import glob\n",
    "import subprocess\n",
    "from tqdm import tqdm\n",
    "import multiprocessing\n",
    "from time import sleep\n",
    "import random\n",
    "\n",
    "def gulp(input_path):\n",
    "    sleep(random.random())\n",
    "    run = True\n",
    "    output_path = input_path[:-3] + 'out'\n",
    "    try:\n",
    "        with open(output_path) as f:\n",
    "            file = f.read()\n",
    "        if 'Job Finished at' in file:\n",
    "            run = False\n",
    "    except:\n",
    "        pass\n",
    "    if run:\n",
    "        with open(input_path) as f:\n",
    "            output_path = input_path[:-3] + 'out'\n",
    "            with open(output_path, 'w') as o:\n",
    "                try:\n",
    "                    a = subprocess.run(['gulp'], stdin = f, stdout = o, timeout=None)\n",
    "                except:\n",
    "                    pass\n",
    "\n",
    "all_cases = sorted(glob.glob('*.inp'), key = lambda x: x.split('/')[-1].split('.')[0])\n",
    "\n",
    "complete = []\n",
    "\n",
    "for case in all_cases:\n",
    "    try:\n",
    "        with open(case[:-3] + 'out', 'r') as f:\n",
    "            g = f.read()\n",
    "        if 'Final energy' in g:\n",
    "            complete.append(case)\n",
    "    except:\n",
    "        pass\n",
    "\n",
    "cases = [case for case in all_cases if case not in complete]\n",
    "\n",
    "N = len(cases)\n",
    "\n",
    "def update():\n",
    "    pbar.update(1)\n",
    "\n",
    "if __name__ == '__main__':\n",
    "    with multiprocessing.Pool() as pool:\n",
    "        for result in tqdm(pool.imap_unordered(gulp, cases), total=len(cases)):\n",
    "            pass\n",
    "    pool.close()\n",
    "    pool.join()"
   ]
  },
  {
   "cell_type": "code",
   "execution_count": 15,
   "metadata": {},
   "outputs": [
    {
     "name": "stdout",
     "output_type": "stream",
     "text": [
      "[0.0, -0.026194850000000436, -0.04992405000000044, -0.07119433999999991, -0.09000740000000018, -0.10637498000000001, -0.12030347000000052, -0.13180908000000002, -0.1409032400000001, -0.14760445000000022, -0.15193344000000053, -0.15390789000000016, -0.15355147999999996, -0.1508930700000004, -0.1459543400000003, -0.13876664000000005, -0.12936371999999974, -0.11777637000000052, -0.10403877999999978, -0.0881918500000003, -0.07025248999999967, -0.050308089999999694, -0.02838481000000037, -0.004533330000000113, 0.021191680000000268, 0.04873101999999996, 0.07801724000000032, 0.10898457999999955, 0.14155731999999954, 0.17564844999999973, 0.21117113000000032, 0.2480273799999999, 0.28609550000000006, 0.32527082000000007, 0.36540193, 0.40634777999999994, 0.44793987999999985, 0.4900097900000002, 0.5323623499999997, 0.5747894000000002, 0.6170694000000001, 0.6589873199999996, 0.7003199999999996, 0.7408501999999997, 0.7803918599999999, 0.8187813500000001, 0.8558870299999999, 0.8916048099999996, 0.9258803499999999, 0.9586545700000002, 0.9899231500000001]\n",
      "-0.15390789000000016\n"
     ]
    }
   ],
   "source": [
    "import re\n",
    "import glob\n",
    "import numpy as np\n",
    "\n",
    "def getEnergy(path):\n",
    "    with open(path) as file:\n",
    "        content = file.readlines()\n",
    "    for line in content:\n",
    "        if \"Final defect energy\" in line:\n",
    "            return float(re.findall(\"[-+]?[.]?[\\d]+(?:,\\d\\d\\d)*[\\.]?\\d*(?:[eE][-+]?\\d+)?\", line)[0])\n",
    "        else:\n",
    "            continue\n",
    "    \n",
    "def energyList(data):\n",
    "    files = glob.glob(data)\n",
    "    energies = dict()\n",
    "    for f in files:\n",
    "        energies[f] = getEnergy(f)\n",
    "    return energies\n",
    "\n",
    "energy = energyList('*.out')\n",
    "energies = []\n",
    "\n",
    "for i in range(0, 51):\n",
    "        try:\n",
    "            energies.append(energy[f'{i}.out'] - energy['0.out'])\n",
    "        except:\n",
    "            pass\n",
    "        \n",
    "print(energies)\n",
    "print(min(energies))"
   ]
  },
  {
   "cell_type": "code",
   "execution_count": 8,
   "metadata": {},
   "outputs": [
    {
     "data": {
      "image/png": "[encoded data removed]",
      "text/plain": [
       "<Figure size 432x288 with 1 Axes>"
      ]
     },
     "metadata": {
      "needs_background": "light"
     },
     "output_type": "display_data"
    }
   ],
   "source": [
    "import matplotlib.pyplot as plt\n",
    "\n",
    "x = list(range(0,51))\n",
    "y = []\n",
    "\n",
    "\n",
    "for i in range(0, 51):\n",
    "    try:\n",
    "        y.append(energy[f'{i}.out'] - energy['0.out'])\n",
    "    except:\n",
    "        pass\n",
    "    \n",
    "plt.plot(x, y)\n",
    "plt.xlabel('Migration coordinate', size =14)\n",
    "plt.ylabel('$\\mathrm{\\Delta}$E (eV)', size=14)\n",
    "\n",
    "def make_square_axes(ax):\n",
    "    \"\"\"Make an axes square in screen units.\n",
    "\n",
    "    Should be called after plotting.\n",
    "    \"\"\"\n",
    "    ax.set_aspect(1 / ax.get_data_ratio())\n",
    "\n",
    "make_square_axes(plt.gca())"
   ]
  },
  {
   "cell_type": "code",
   "execution_count": null,
   "metadata": {},
   "outputs": [],
   "source": []
  }
 ],
 "metadata": {
  "kernelspec": {
   "display_name": "Python 3",
   "language": "python",
   "name": "python3"
  },
  "language_info": {
   "codemirror_mode": {
    "name": "ipython",
    "version": 3
   },
   "file_extension": ".py",
   "mimetype": "text/x-python",
   "name": "python",
   "nbconvert_exporter": "python",
   "pygments_lexer": "ipython3",
   "version": "3.8.5"
  }
 },
 "nbformat": 4,
 "nbformat_minor": 4
}
