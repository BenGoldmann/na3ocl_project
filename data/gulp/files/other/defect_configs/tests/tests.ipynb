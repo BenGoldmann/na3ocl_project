{
 "cells": [
  {
   "cell_type": "code",
   "execution_count": 1,
   "metadata": {},
   "outputs": [
    {
     "name": "stderr",
     "output_type": "stream",
     "text": [
      "100%|██████████| 8/8 [03:24<00:00, 25.60s/it]\n"
     ]
    }
   ],
   "source": [
    "import glob\n",
    "import subprocess\n",
    "from tqdm import tqdm\n",
    "import multiprocessing\n",
    "from time import sleep\n",
    "import random\n",
    "\n",
    "def gulp(input_path):\n",
    "    sleep(random.random())\n",
    "    run = True\n",
    "    output_path = input_path[:-3] + 'out'\n",
    "    try:\n",
    "        with open(output_path) as f:\n",
    "            file = f.read()\n",
    "        if 'Job Finished at' in file:\n",
    "            run = False\n",
    "    except:\n",
    "        pass\n",
    "    if run:\n",
    "        with open(input_path) as f:\n",
    "            output_path = input_path[:-3] + 'out'\n",
    "            with open(output_path, 'w') as o:\n",
    "                try:\n",
    "                    a = subprocess.run(['gulp'], stdin = f, stdout = o, timeout = None)\n",
    "                except:\n",
    "                    pass\n",
    "\n",
    "all_cases = sorted(glob.glob('*.inp'), key = lambda x: x.split('/')[-1].split('.')[0])\n",
    "\n",
    "complete = []\n",
    "\n",
    "for case in all_cases:\n",
    "    try:\n",
    "        with open(case[:-3] + 'out', 'r') as f:\n",
    "            g = f.read()\n",
    "        if 'Final energy' in g:\n",
    "            complete.append(case)\n",
    "    except:\n",
    "        pass\n",
    "\n",
    "cases = [case for case in all_cases if case not in complete]\n",
    "\n",
    "N = len(cases)\n",
    "\n",
    "def update():\n",
    "    pbar.update(1)\n",
    "\n",
    "if __name__ == '__main__':\n",
    "    with multiprocessing.Pool() as pool:\n",
    "        for result in tqdm(pool.imap_unordered(gulp, cases), total=len(cases)):\n",
    "            pass\n",
    "    pool.close()\n",
    "    pool.join()"
   ]
  },
  {
   "cell_type": "code",
   "execution_count": 10,
   "metadata": {},
   "outputs": [
    {
     "name": "stdout",
     "output_type": "stream",
     "text": [
      "OrderedDict([('fix_large_super.out', -3.16638193), ('fix_large_unit.out', -3.16638351), ('fix_small_super.out', -3.12463925), ('fix_small_unit.out', -3.12463924), ('nofix_large_super.out', -3.29486805), ('nofix_large_unit.out', -3.29486786), ('nofix_small_super.out', -3.2607213), ('nofix_small_unit.out', -3.26072134)])\n"
     ]
    }
   ],
   "source": [
    "import re\n",
    "import glob\n",
    "import collections\n",
    "\n",
    "def getEnergy(path):\n",
    "    with open(path) as file:\n",
    "        content = file.readlines()\n",
    "    for line in content:\n",
    "        if \"Final defect energy\" in line:\n",
    "            return float(re.findall(\"[-+]?[.]?[\\d]+(?:,\\d\\d\\d)*[\\.]?\\d*(?:[eE][-+]?\\d+)?\", line)[0])\n",
    "\n",
    "def getLatticeEnergy(path):\n",
    "    with open(path) as file:\n",
    "        content = file.readlines()\n",
    "    for line in content:\n",
    "        if \"Final energy\" in line:\n",
    "            return float(re.findall(\"[-+]?[.]?[\\d]+(?:,\\d\\d\\d)*[\\.]?\\d*(?:[eE][-+]?\\d+)?\", line)[0])\n",
    "\n",
    "def energyList(data):\n",
    "    files = glob.glob(data)\n",
    "    energies = dict()\n",
    "    for f in files:\n",
    "        energies[f] = getEnergy(f)\n",
    "    return energies\n",
    "        \n",
    "def latticeEnergy(data):\n",
    "    lattice_energy = getLatticeEnergy(data)\n",
    "    return lattice_energy\n",
    "\n",
    "energy = energyList('*.out')\n",
    "sorted_energy = collections.OrderedDict(sorted(energy.items()))\n",
    "\n",
    "energies = sorted_energy.values()\n",
    "defect = sorted_energy.keys()\n",
    "defects = [x[:-4] for x in defect]\n",
    "\n",
    "print(sorted_energy)"
   ]
  },
  {
   "cell_type": "code",
   "execution_count": 12,
   "metadata": {},
   "outputs": [
    {
     "data": {
      "image/png": "[encoded data removed]",
      "text/plain": [
       "<Figure size 432x288 with 1 Axes>"
      ]
     },
     "metadata": {
      "needs_background": "light"
     },
     "output_type": "display_data"
    }
   ],
   "source": [
    "import matplotlib.pyplot as plt\n",
    "import numpy as np\n",
    "\n",
    "plt.bar(defects, energies)\n",
    "plt.xticks(rotation='vertical')\n",
    "plt.ylabel('Defect energy, eV')\n",
    "plt.ylim(-3.5, -3)\n",
    "plt.title('Ba impurity defect energy with different settings')\n",
    "plt.savefig('/home/ben/Documents/gulp_calcs/0_summary/energy_settings.jpg', bbox_inches='tight', dpi=500)"
   ]
  },
  {
   "cell_type": "code",
   "execution_count": null,
   "metadata": {},
   "outputs": [],
   "source": []
  }
 ],
 "metadata": {
  "kernelspec": {
   "display_name": "Python 3",
   "language": "python",
   "name": "python3"
  },
  "language_info": {
   "codemirror_mode": {
    "name": "ipython",
    "version": 3
   },
   "file_extension": ".py",
   "mimetype": "text/x-python",
   "name": "python",
   "nbconvert_exporter": "python",
   "pygments_lexer": "ipython3",
   "version": "3.8.5"
  }
 },
 "nbformat": 4,
 "nbformat_minor": 4
}
