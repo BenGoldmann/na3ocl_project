{
 "cells": [
  {
   "cell_type": "code",
   "execution_count": 6,
   "metadata": {},
   "outputs": [],
   "source": [
    "import re\n",
    "import glob\n",
    "import numpy as np\n",
    "\n",
    "def getEnergy(path):\n",
    "    with open(path) as file:\n",
    "        content = file.readlines()\n",
    "    for line in content:\n",
    "        if \"Final defect energy\" in line:\n",
    "            return float(re.findall(\"[-+]?[.]?[\\d]+(?:,\\d\\d\\d)*[\\.]?\\d*(?:[eE][-+]?\\d+)?\", line)[0])\n",
    "        else:\n",
    "            continue\n",
    "    \n",
    "def energyList(data):\n",
    "    files = glob.glob(data)\n",
    "    energies = dict()\n",
    "    for f in files:\n",
    "        energies[f] = getEnergy(f)\n",
    "    return energies\n",
    "\n",
    "mgs = energyList('./mg/*.out')\n",
    "cas = energyList('./ca/*.out')\n",
    "srs = energyList('./sr/*.out')\n",
    "bas = energyList('./ba/*.out')\n",
    "\n",
    "mg = []\n",
    "ca = []\n",
    "sr = []\n",
    "ba = []\n",
    "\n",
    "metals = [mg, ca, sr, ba]\n",
    "metalss = [mgs, cas, srs, bas]\n",
    "ions = ['mg', 'ca', 'sr', 'ba']\n",
    "\n",
    "for m, ms, z in zip(metals, metalss, ions):\n",
    "    for i in range(10, 21):\n",
    "            try:\n",
    "                m.append(ms[f'./{z}/{i}.out'])\n",
    "            except:\n",
    "                raise"
   ]
  },
  {
   "cell_type": "code",
   "execution_count": 19,
   "metadata": {},
   "outputs": [
    {
     "data": {
      "image/png": "[encoded data removed]",
      "text/plain": [
       "<Figure size 432x288 with 1 Axes>"
      ]
     },
     "metadata": {
      "needs_background": "light"
     },
     "output_type": "display_data"
    }
   ],
   "source": [
    "import matplotlib.pyplot as plt\n",
    "\n",
    "x = list(range(10,21))\n",
    "\n",
    "fig, ax = plt.subplots()\n",
    "\n",
    "ax.plot(x, mg)\n",
    "ax.plot(x, ca)\n",
    "ax.plot(x, sr)\n",
    "ax.plot(x, ba)\n",
    "\n",
    "textstr = 'Max variation: 0.05 eV'\n",
    "\n",
    "ax.text(0.45, 0.3, textstr, transform=ax.transAxes, fontsize=14, verticalalignment='top')\n",
    "\n",
    "plt.xlabel('Inner defect radius')\n",
    "plt.ylabel('Energy of impurity (eV)')\n",
    "plt.legend(labels=['Mg', 'Ca', 'Sr', 'Ba'],  loc = 'upper left')\n",
    "plt.title('Test of alkaline earth Buckigham potentials')\n",
    "plt.savefig('/home/ben/Documents/gulp_calcs/0_summary/buckingham_test.jpg', bbox_inches='tight', dpi=500)"
   ]
  },
  {
   "cell_type": "code",
   "execution_count": null,
   "metadata": {},
   "outputs": [],
   "source": []
  }
 ],
 "metadata": {
  "kernelspec": {
   "display_name": "Python 3",
   "language": "python",
   "name": "python3"
  },
  "language_info": {
   "codemirror_mode": {
    "name": "ipython",
    "version": 3
   },
   "file_extension": ".py",
   "mimetype": "text/x-python",
   "name": "python",
   "nbconvert_exporter": "python",
   "pygments_lexer": "ipython3",
   "version": "3.8.5"
  }
 },
 "nbformat": 4,
 "nbformat_minor": 4
}
