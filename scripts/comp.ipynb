{
 "cells": [
  {
   "cell_type": "code",
   "execution_count": 2,
   "metadata": {},
   "outputs": [],
   "source": [
    "import hashlib\n",
    "def sha1(fname):\n",
    "    sha1hash = hashlib.sha1()\n",
    "    with open(fname) as handle: #opening the file one line at a time for memory considerations\n",
    "        for line in handle:\n",
    "            sha1hash.update(line.encode('utf-8'))\n",
    "    return(sha1hash.hexdigest())\n",
    "    \n",
    "def comparefiles(files,datakey):\n",
    "    print('########################################')\n",
    "    print('Checking the files\\' hash.')\n",
    "    if sha1(files[0]) == sha1(files[1]):\n",
    "        print('100% Match')\n",
    "    else:\n",
    "        print('Hash not matched. Proceeding to detailed checks.')"
   ]
  },
  {
   "cell_type": "code",
   "execution_count": 6,
   "metadata": {},
   "outputs": [
    {
     "name": "stdout",
     "output_type": "stream",
     "text": [
      "########################################\n",
      "Checking the files' hash.\n",
      "100% Match\n"
     ]
    }
   ],
   "source": [
    "comparefiles(['do.txt', 'redo.txt'], '')"
   ]
  },
  {
   "cell_type": "code",
   "execution_count": 7,
   "metadata": {},
   "outputs": [
    {
     "name": "stdout",
     "output_type": "stream",
     "text": [
      "########################################\n",
      "Checking the files' hash.\n",
      "Hash not matched. Proceeding to detailed checks.\n"
     ]
    }
   ],
   "source": [
    "comparefiles(['do.txt', 'reredo.txt'], '')"
   ]
  },
  {
   "cell_type": "code",
   "execution_count": 8,
   "metadata": {},
   "outputs": [
    {
     "name": "stdout",
     "output_type": "stream",
     "text": [
      "########################################\n",
      "Checking the files' hash.\n",
      "Hash not matched. Proceeding to detailed checks.\n"
     ]
    }
   ],
   "source": [
    "comparefiles(['redo.txt', 'reredo.txt'], '')"
   ]
  },
  {
   "cell_type": "code",
   "execution_count": null,
   "metadata": {},
   "outputs": [],
   "source": []
  }
 ],
 "metadata": {
  "kernelspec": {
   "display_name": "Python 3",
   "language": "python",
   "name": "python3"
  },
  "language_info": {
   "codemirror_mode": {
    "name": "ipython",
    "version": 3
   },
   "file_extension": ".py",
   "mimetype": "text/x-python",
   "name": "python",
   "nbconvert_exporter": "python",
   "pygments_lexer": "ipython3",
   "version": "3.8.5"
  }
 },
 "nbformat": 4,
 "nbformat_minor": 4
}
