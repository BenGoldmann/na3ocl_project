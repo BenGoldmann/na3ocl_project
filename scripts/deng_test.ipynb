{
 "cells": [
  {
   "cell_type": "code",
   "execution_count": 6,
   "metadata": {},
   "outputs": [],
   "source": [
    "import numpy as np\n",
    "\n",
    "for i in np.arange(10, 22):\n",
    "        filename = (f\"{i}.inp\")\n",
    "        target = open(filename, 'w+')\n",
    "        target.write(\"\"\"include /home/ben/Documents/gulp_calcs/0_datafiles/na3ocl_structure.inp\n",
    "\"\"\")\n",
    "        target.write(\"centre 0.5 0.5 0\")\n",
    "        target.write(f\"\"\"\n",
    "size {i} 24\n",
    "\"\"\")\n",
    "        target.write(\"vacancy 0.5 0.5 0\")\n",
    "        target.write(\"\"\"\n",
    "include /home/ben/Documents/gulp_calcs/0_datafiles/na3ocl_deng_potentials.inp    \n",
    "\"\"\")"
   ]
  },
  {
   "cell_type": "code",
   "execution_count": 7,
   "metadata": {},
   "outputs": [
    {
     "name": "stderr",
     "output_type": "stream",
     "text": [
      "100%|██████████| 3/3 [00:09<00:00,  3.23s/it]\n"
     ]
    }
   ],
   "source": [
    "import glob\n",
    "import subprocess\n",
    "from tqdm import tqdm\n",
    "import multiprocessing\n",
    "from time import sleep\n",
    "import random\n",
    "\n",
    "def gulp(input_path):\n",
    "    sleep(random.random())\n",
    "    run = True\n",
    "    output_path = input_path[:-3] + 'out'\n",
    "    try:\n",
    "        with open(output_path) as f:\n",
    "            file = f.read()\n",
    "        if 'Job Finished at' in file:\n",
    "            run = False\n",
    "    except:\n",
    "        pass\n",
    "    if run:\n",
    "        with open(input_path) as f:\n",
    "            output_path = input_path[:-3] + 'out'\n",
    "            with open(output_path, 'w') as o:\n",
    "                try:\n",
    "                    a = subprocess.run(['gulp'], stdin = f, stdout = o, timeout=None)\n",
    "                except:\n",
    "                    pass\n",
    "\n",
    "all_cases = sorted(glob.glob('*.inp'), key = lambda x: x.split('/')[-1].split('.')[0])\n",
    "\n",
    "complete = []\n",
    "\n",
    "for case in all_cases:\n",
    "    try:\n",
    "        with open(case[:-3] + 'out', 'r') as f:\n",
    "            g = f.read()\n",
    "        if 'Final energy' in g:\n",
    "            complete.append(case)\n",
    "    except:\n",
    "        pass\n",
    "\n",
    "cases = [case for case in all_cases if case not in complete]\n",
    "\n",
    "N = len(cases)\n",
    "\n",
    "def update():\n",
    "    pbar.update(1)\n",
    "\n",
    "if __name__ == '__main__':\n",
    "    with multiprocessing.Pool() as pool:\n",
    "        for result in tqdm(pool.imap_unordered(gulp, cases), total=len(cases)):\n",
    "            pass\n",
    "    pool.close()\n",
    "    pool.join()"
   ]
  },
  {
   "cell_type": "code",
   "execution_count": 2,
   "metadata": {},
   "outputs": [],
   "source": [
    "import re\n",
    "import glob\n",
    "import numpy as np\n",
    "\n",
    "def getEnergy(path):\n",
    "    with open(path) as file:\n",
    "        content = file.readlines()\n",
    "    for line in content:\n",
    "        if \"Final defect energy\" in line:\n",
    "            return float(re.findall(\"[-+]?[.]?[\\d]+(?:,\\d\\d\\d)*[\\.]?\\d*(?:[eE][-+]?\\d+)?\", line)[0])\n",
    "        else:\n",
    "            continue\n",
    "    \n",
    "def energyList(data):\n",
    "    files = glob.glob(data)\n",
    "    energies = dict()\n",
    "    for f in files:\n",
    "        energies[f] = getEnergy(f)\n",
    "    return energies\n",
    "\n",
    "energy = energyList('*.out')\n",
    "energies = []\n",
    "\n",
    "for i in range(12, 21):\n",
    "        try:\n",
    "            energies.append(energy[f'{i}.out'])\n",
    "        except:\n",
    "            pass"
   ]
  },
  {
   "cell_type": "code",
   "execution_count": 3,
   "metadata": {},
   "outputs": [
    {
     "name": "stdout",
     "output_type": "stream",
     "text": [
      "[2.72357148, 1.99453538, -1.09303551, -2.80609079, -4.64028069, -7.61983996, -10.54108888, -15.26853757, -16.92454251]\n"
     ]
    }
   ],
   "source": [
    "print(energies)"
   ]
  },
  {
   "cell_type": "code",
   "execution_count": 4,
   "metadata": {},
   "outputs": [
    {
     "data": {
      "image/png": "[encoded data removed]",
      "text/plain": [
       "<Figure size 432x288 with 1 Axes>"
      ]
     },
     "metadata": {
      "needs_background": "light"
     },
     "output_type": "display_data"
    }
   ],
   "source": [
    "import matplotlib.pyplot as plt\n",
    "\n",
    "x = list(range(10,21))\n",
    "y = []\n",
    "\n",
    "\n",
    "for i in range(10, 21):\n",
    "    try:\n",
    "        y.append(energy[f'{i}.out'])\n",
    "    except:\n",
    "        pass\n",
    "    \n",
    "plt.plot(x, y)\n",
    "plt.xlabel('Inner defect radius')\n",
    "plt.ylabel('Energy of vacancy (eV)')\n",
    "plt.title('Test of Buckigham potentials from Deng2016')\n",
    "plt.savefig('/home/ben/Documents/gulp_calcs/0_summary/deng_test.jpg', bbox_inches='tight', dpi=500)"
   ]
  },
  {
   "cell_type": "code",
   "execution_count": 5,
   "metadata": {},
   "outputs": [
    {
     "data": {
      "text/plain": [
       "20.34647174"
      ]
     },
     "execution_count": 5,
     "metadata": {},
     "output_type": "execute_result"
    }
   ],
   "source": [
    "max(y) - min(y)"
   ]
  },
  {
   "cell_type": "code",
   "execution_count": null,
   "metadata": {},
   "outputs": [],
   "source": []
  }
 ],
 "metadata": {
  "kernelspec": {
   "display_name": "Python 3",
   "language": "python",
   "name": "python3"
  },
  "language_info": {
   "codemirror_mode": {
    "name": "ipython",
    "version": 3
   },
   "file_extension": ".py",
   "mimetype": "text/x-python",
   "name": "python",
   "nbconvert_exporter": "python",
   "pygments_lexer": "ipython3",
   "version": "3.8.5"
  }
 },
 "nbformat": 4,
 "nbformat_minor": 4
}
