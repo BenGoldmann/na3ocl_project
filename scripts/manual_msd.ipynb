{
 "cells": [
  {
   "cell_type": "code",
   "execution_count": 3,
   "metadata": {},
   "outputs": [],
   "source": [
    "#Set number of Na atoms, timesteps and extract lines with Na\n",
    "\n",
    "step_count = []\n",
    "na = []\n",
    "\n",
    "with open('outputs/na_traj_schottky.txt') as file:\n",
    "    content = file.readlines()\n",
    "for line in content:\n",
    "    if 'TIMESTEP' in line:\n",
    "        step_count.append(line)\n",
    "\n",
    "with open('outputs/na_traj_schottky.txt') as file:\n",
    "    content = file.readlines()\n",
    "for line in content:\n",
    "    if '1 1.0' in line:\n",
    "        na.append(line)\n",
    "\n",
    "steps = len(step_count)\n",
    "na_atoms = int(len(na) / len(step_count))\n",
    "\n",
    "#Sort out coordinates by dimension        \n",
    "        \n",
    "na_coords = [[] for x in range(0, na_atoms)]\n",
    "na_coords_split = [[] for x in range(0, na_atoms)]\n",
    "na_coords_x = [[] for x in range(0, na_atoms)]\n",
    "na_coords_y = [[] for x in range(0, na_atoms)]\n",
    "na_coords_z = [[] for x in range(0, na_atoms)]\n",
    "    \n",
    "for n in range(0, na_atoms):\n",
    "    for i in range (n, steps * na_atoms, na_atoms):\n",
    "        na_coords[n].append(na[i])\n",
    "    for i in na_coords[n]:\n",
    "        na_coords_split[n].append(i.split())\n",
    "    for i in range(0, steps):\n",
    "        na_coords_x[n].append(float(na_coords_split[n][i][2]))\n",
    "    for i in range(0, steps):\n",
    "        na_coords_y[n].append(float(na_coords_split[n][i][3]))\n",
    "    for i in range(0, steps):\n",
    "        na_coords_z[n].append(float(na_coords_split[n][i][4]))\n",
    "\n",
    "#Create list within list with cumulative msd for each Na atom        \n",
    "        \n",
    "na_msd = [[] for x in range(0, na_atoms)]\n",
    "\n",
    "for n in range(0, na_atoms):\n",
    "    initial = 0\n",
    "    for t in range(0, (steps-1)):\n",
    "        step = (na_coords_x[n][t] - na_coords_x[n][0])**2 + (na_coords_y[n][t] - na_coords_y[n][0])**2 + (na_coords_z[n][t] - na_coords_z[n][0])**2\n",
    "        na_msd[n].append(step)\n",
    "\n",
    "#Create list with sum of msd for Na atoms        \n",
    "        \n",
    "na_total_msd = []\n",
    "\n",
    "for t in range(0, (steps-1)):\n",
    "    initial = 0\n",
    "    for n in range (0, na_atoms):\n",
    "        msdt = na_msd[n][t] + initial\n",
    "        initial = msdt\n",
    "    na_total_msd.append(msdt)\n",
    "\n",
    "#Create list with cumulative msd for a single Na atom on average    \n",
    "    \n",
    "na_mean_msd = []\n",
    "\n",
    "for i in na_total_msd:\n",
    "    na_mean_msd.append(i/na_atoms)"
   ]
  },
  {
   "cell_type": "code",
   "execution_count": 6,
   "metadata": {},
   "outputs": [],
   "source": [
    "#Set number of Na atoms, timesteps and extract lines with Na\n",
    "\n",
    "step_count = []\n",
    "na = []\n",
    "\n",
    "with open('outputs/na_traj_mg.txt') as file:\n",
    "    content = file.readlines()\n",
    "for line in content:\n",
    "    if 'TIMESTEP' in line:\n",
    "        step_count.append(line)\n",
    "\n",
    "with open('outputs/na_traj_mg.txt') as file:\n",
    "    content = file.readlines()\n",
    "for line in content:\n",
    "    if '2 1.0' in line:\n",
    "        na.append(line)\n",
    "\n",
    "steps = len(step_count)\n",
    "na_atoms = int(len(na) / len(step_count))\n",
    "\n",
    "#Sort out coordinates by dimension        \n",
    "        \n",
    "na_coords = [[] for x in range(0, na_atoms)]\n",
    "na_coords_split = [[] for x in range(0, na_atoms)]\n",
    "na_coords_x = [[] for x in range(0, na_atoms)]\n",
    "na_coords_y = [[] for x in range(0, na_atoms)]\n",
    "na_coords_z = [[] for x in range(0, na_atoms)]\n",
    "    \n",
    "for n in range(0, na_atoms):\n",
    "    for i in range (n, steps * na_atoms, na_atoms):\n",
    "        na_coords[n].append(na[i])\n",
    "    for i in na_coords[n]:\n",
    "        na_coords_split[n].append(i.split())\n",
    "    for i in range(0, steps):\n",
    "        na_coords_x[n].append(float(na_coords_split[n][i][2]))\n",
    "    for i in range(0, steps):\n",
    "        na_coords_y[n].append(float(na_coords_split[n][i][3]))\n",
    "    for i in range(0, steps):\n",
    "        na_coords_z[n].append(float(na_coords_split[n][i][4]))\n",
    "\n",
    "#Create list within list with cumulative msd for each Na atom        \n",
    "        \n",
    "na_msd = [[] for x in range(0, na_atoms)]\n",
    "\n",
    "for n in range(0, na_atoms):\n",
    "    initial = 0\n",
    "    for t in range(0, (steps-1)):\n",
    "        step = (na_coords_x[n][t] - na_coords_x[n][0])**2 + (na_coords_y[n][t] - na_coords_y[n][0])**2 + (na_coords_z[n][t] - na_coords_z[n][0])**2\n",
    "        na_msd[n].append(step)\n",
    "\n",
    "#Create list with cumulative msd for all Na atoms         \n",
    "        \n",
    "na_total_msd = []\n",
    "\n",
    "for t in range(0, (steps-1)):\n",
    "    initial = 0\n",
    "    for n in range (0, na_atoms):\n",
    "        msdt = na_msd[n][t] + initial\n",
    "        initial = msdt\n",
    "    na_total_msd.append(msdt)\n",
    "\n",
    "#Create list with cumulative msd for a single Na atom on average    \n",
    "    \n",
    "ca_mean_msd = []\n",
    "\n",
    "for i in na_total_msd:\n",
    "    ca_mean_msd.append(i/na_atoms)"
   ]
  },
  {
   "cell_type": "code",
   "execution_count": 7,
   "metadata": {},
   "outputs": [
    {
     "data": {
      "text/plain": [
       "Text(0.5, 1.0, 'MSD in 3x3x3 Na3OCl supercell \\n with 3 vacant sites at 800 K over 2000 ps')"
      ]
     },
     "execution_count": 7,
     "metadata": {},
     "output_type": "execute_result"
    },
    {
     "data": {
      "image/png": "[encoded data removed]",
      "text/plain": [
       "<Figure size 432x288 with 1 Axes>"
      ]
     },
     "metadata": {
      "needs_background": "light"
     },
     "output_type": "display_data"
    }
   ],
   "source": [
    "import matplotlib.pyplot as plt\n",
    "\n",
    "plt.plot(range(0, 2000), na_mean_msd, color='orange')\n",
    "plt.plot(range(0, 2000), ca_mean_msd, color='pink')\n",
    "plt.xlabel('time, ps')\n",
    "plt.ylabel('msd, A')\n",
    "plt.legend(labels=['Na', 'O', 'Cl'], loc='upper left')\n",
    "plt.title('MSD in 3x3x3 Na3OCl supercell \\n with 3 vacant sites at 800 K over 2000 ps')"
   ]
  },
  {
   "cell_type": "code",
   "execution_count": 22,
   "metadata": {},
   "outputs": [
    {
     "data": {
      "text/plain": [
       "2000"
      ]
     },
     "execution_count": 22,
     "metadata": {},
     "output_type": "execute_result"
    }
   ],
   "source": [
    "len(na_msd[0])"
   ]
  }
 ],
 "metadata": {
  "kernelspec": {
   "display_name": "Python 3",
   "language": "python",
   "name": "python3"
  },
  "language_info": {
   "codemirror_mode": {
    "name": "ipython",
    "version": 3
   },
   "file_extension": ".py",
   "mimetype": "text/x-python",
   "name": "python",
   "nbconvert_exporter": "python",
   "pygments_lexer": "ipython3",
   "version": "3.8.10"
  }
 },
 "nbformat": 4,
 "nbformat_minor": 4
}
