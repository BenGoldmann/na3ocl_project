{
 "cells": [
  {
   "cell_type": "markdown",
   "metadata": {},
   "source": [
    "# Unwrap Cl vacancy compensated"
   ]
  },
  {
   "cell_type": "code",
   "execution_count": 1,
   "metadata": {},
   "outputs": [],
   "source": [
    "from ovito.io import *\n",
    "from ovito.modifiers import *\n",
    "from ovito.pipeline import *\n",
    "\n",
    "# Data import:\n",
    "pipeline = import_file('./centred_output/main_nvt_simulation-trajectory.lammpstrj', multiple_frames = True)\n",
    "\n",
    "# Expression selection:\n",
    "pipeline.modifiers.append(ExpressionSelectionModifier(expression = 'ParticleType==1'))\n",
    "\n",
    "# Invert selection:\n",
    "pipeline.modifiers.append(InvertSelectionModifier())\n",
    "\n",
    "# Delete selected:\n",
    "pipeline.modifiers.append(DeleteSelectedModifier())\n",
    "\n",
    "# Unwrap trajectories:\n",
    "pipeline.modifiers.append(UnwrapTrajectoriesModifier())\n",
    "\n",
    "# Export file:\n",
    "export_file(pipeline, \"./centred_output/na_traj_schottky.txt\", \"lammps/dump\", columns = ['Particle Type', 'Charge', 'Position.X', 'Position.Y', 'Position.Z'], multiple_frames=True)"
   ]
  },
  {
   "cell_type": "markdown",
   "metadata": {},
   "source": [
    "# Unwrap Mg dopant compensated"
   ]
  },
  {
   "cell_type": "code",
   "execution_count": 5,
   "metadata": {},
   "outputs": [],
   "source": [
    "from ovito.io import *\n",
    "from ovito.modifiers import *\n",
    "from ovito.pipeline import *\n",
    "\n",
    "# Data import:\n",
    "pipeline = import_file('./centred_output/mg.lammpstrj', multiple_frames = True)\n",
    "\n",
    "# Expression selection:\n",
    "pipeline.modifiers.append(ExpressionSelectionModifier(expression = 'ParticleType==2'))\n",
    "\n",
    "# Invert selection:\n",
    "pipeline.modifiers.append(InvertSelectionModifier())\n",
    "\n",
    "# Delete selected:\n",
    "pipeline.modifiers.append(DeleteSelectedModifier())\n",
    "\n",
    "#Unwrap trajectroies:\n",
    "pipeline.modifiers.append(UnwrapTrajectoriesModifier())\n",
    "\n",
    "\n",
    "export_file(pipeline, \"./centred_output/na_traj_mg.txt\", \"lammps/dump\", columns = ['Particle Type', 'Charge', 'Position.X', 'Position.Y', 'Position.Z'], multiple_frames=True)"
   ]
  },
  {
   "cell_type": "markdown",
   "metadata": {},
   "source": [
    "# Unwrap Ca dopant compensated"
   ]
  },
  {
   "cell_type": "code",
   "execution_count": 6,
   "metadata": {},
   "outputs": [],
   "source": [
    "from ovito.io import *\n",
    "from ovito.modifiers import *\n",
    "from ovito.pipeline import *\n",
    "\n",
    "# Data import:\n",
    "pipeline = import_file('./centred_output/ca.lammpstrj', multiple_frames = True)\n",
    "\n",
    "# Expression selection:\n",
    "pipeline.modifiers.append(ExpressionSelectionModifier(expression = 'ParticleType==2'))\n",
    "\n",
    "# Invert selection:\n",
    "pipeline.modifiers.append(InvertSelectionModifier())\n",
    "\n",
    "# Delete selected:\n",
    "pipeline.modifiers.append(DeleteSelectedModifier())\n",
    "\n",
    "# Unwrap trajectories:\n",
    "pipeline.modifiers.append(UnwrapTrajectoriesModifier())\n",
    "\n",
    "# Export file:\n",
    "export_file(pipeline, \"./centred_output/na_traj_ca.txt\", \"lammps/dump\", columns = ['Particle Type', 'Charge', 'Position.X', 'Position.Y', 'Position.Z'], multiple_frames=True)"
   ]
  },
  {
   "cell_type": "markdown",
   "metadata": {},
   "source": [
    "# Unwrap Al dopant compensated"
   ]
  },
  {
   "cell_type": "code",
   "execution_count": 5,
   "metadata": {},
   "outputs": [],
   "source": [
    "from ovito.io import *\n",
    "from ovito.modifiers import *\n",
    "from ovito.pipeline import *\n",
    "\n",
    "# Data import:\n",
    "pipeline = import_file('./centred_output/al_centred.lammpstrj', multiple_frames = True)\n",
    "\n",
    "# Expression selection:\n",
    "pipeline.modifiers.append(ExpressionSelectionModifier(expression = 'ParticleType==1'))\n",
    "\n",
    "# Invert selection:\n",
    "pipeline.modifiers.append(InvertSelectionModifier())\n",
    "\n",
    "# Delete selected:\n",
    "pipeline.modifiers.append(DeleteSelectedModifier())\n",
    "\n",
    "# Unwrap trajectories:\n",
    "pipeline.modifiers.append(UnwrapTrajectoriesModifier())\n",
    "\n",
    "# Export file:\n",
    "export_file(pipeline, \"./centred_output/na_traj_al.txt\", \"lammps/dump\", columns = ['Particle Type', 'Charge', 'Position.X', 'Position.Y', 'Position.Z'], multiple_frames=True)"
   ]
  },
  {
   "cell_type": "code",
   "execution_count": null,
   "metadata": {},
   "outputs": [],
   "source": []
  }
 ],
 "metadata": {
  "kernelspec": {
   "display_name": "Python 3",
   "language": "python",
   "name": "python3"
  },
  "language_info": {
   "codemirror_mode": {
    "name": "ipython",
    "version": 3
   },
   "file_extension": ".py",
   "mimetype": "text/x-python",
   "name": "python",
   "nbconvert_exporter": "python",
   "pygments_lexer": "ipython3",
   "version": "3.8.5"
  }
 },
 "nbformat": 4,
 "nbformat_minor": 4
}
